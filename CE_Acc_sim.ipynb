{
 "cells": [
  {
   "cell_type": "code",
   "execution_count": 1,
   "metadata": {},
   "outputs": [],
   "source": [
    "import numpy as np\n"
   ]
  },
  {
   "cell_type": "markdown",
   "metadata": {},
   "source": [
    "Cross entropy"
   ]
  },
  {
   "cell_type": "code",
   "execution_count": 6,
   "metadata": {},
   "outputs": [],
   "source": [
    "def cross_entropy(predictions, targets, epsilon=1e-12):\n",
    "    \"\"\"\n",
    "    Computes cross entropy between targets (encoded as one-hot vectors)\n",
    "    and predictions.\n",
    "    Input: predictions (N, k) ndarray\n",
    "           targets (N, k) ndarray\n",
    "    Returns: scalar\n",
    "    \"\"\"\n",
    "    predictions = np.clip(predictions, epsilon, 1. - epsilon)\n",
    "    N = predictions.shape[0]\n",
    "    ce = -np.sum(targets*np.log(predictions+1e-9))/N\n",
    "    return ce\n"
   ]
  },
  {
   "cell_type": "markdown",
   "metadata": {},
   "source": [
    "here a simulated prediction of GP\n",
    "\n",
    "you can see that prediction are lower, not all are 0.9 and above"
   ]
  },
  {
   "cell_type": "code",
   "execution_count": 9,
   "metadata": {},
   "outputs": [],
   "source": [
    "predictions = np.array([\n",
    "                        [0.25,0.25,0.25,0.60],\n",
    "                        [0.01,0.01,0.01,0.60],\n",
    "                        [0.25,0.25,0.25,0.90],\n",
    "                        [0.01,0.01,0.01,0.88],\n",
    "                        [0.25, 0.25, 0.25, 0.70],\n",
    "                        [0.01, 0.01, 0.01, 0.66],\n",
    "                        [0.01, 0.01, 0.01, 0.55],\n",
    "                        [0.01, 0.5, 0.10, 0.66],\n",
    "                        [0.01, 0.01, 0.01, 0.67],\n",
    "                        [0.01, 0.01, 0.01, 0.67],\n",
    "                        [0.25, 0.25, 0.25, 0.90],\n",
    "                        [0.01, 0.01, 0.01, 0.88],\n",
    "                        [0.25, 0.25, 0.25, 0.70],\n",
    "                        [0.01, 0.01, 0.01, 0.66],\n",
    "                        [0.01, 0.01, 0.01, 0.55],\n",
    "                        [0.01, 0.5, 0.10, 0.66],\n",
    "                        [0.01, 0.01, 0.01, 0.67],\n",
    "                        [0.01, 0.01, 0.01, 0.67],\n",
    "                        [0.25, 0.25, 0.25, 0.90],\n",
    "                        [0.01, 0.01, 0.01, 0.88],\n",
    "                        [0.25, 0.25, 0.25, 0.70],\n",
    "                        [0.01, 0.01, 0.01, 0.66],\n",
    "                        [0.01, 0.01, 0.01, 0.55],\n",
    "                        [0.01, 0.5, 0.10, 0.66],\n",
    "                        [0.01, 0.01, 0.01, 0.67],\n",
    "                        [0.01, 0.01, 0.01, 0.67]\n",
    "])\n",
    "targets = np.array([\n",
    "                        [0,0,0,1],\n",
    "                        [0,0,0,1],\n",
    "                        [0, 0, 0, 1],\n",
    "                        [0, 0, 0, 1],\n",
    "                        [0, 0, 0, 1],\n",
    "                        [0, 0, 0, 1],\n",
    "                        [0, 0, 0, 1],\n",
    "                        [0, 0, 0, 1],\n",
    "                        [0, 0, 0, 1],\n",
    "                        [0, 0, 0, 1],\n",
    "                        [0, 0, 0, 1],\n",
    "                        [0, 0, 0, 1],\n",
    "                        [0, 0, 0, 1],\n",
    "                        [0, 0, 0, 1],\n",
    "                        [0, 0, 0, 1],\n",
    "                        [0, 0, 0, 1],\n",
    "                        [0, 0, 0, 1],\n",
    "                        [0, 0, 0, 1],\n",
    "                        [0, 0, 0, 1],\n",
    "                        [0, 0, 0, 1],\n",
    "                        [0, 0, 0, 1],\n",
    "                        [0, 0, 0, 1],\n",
    "                        [0, 0, 0, 1],\n",
    "                        [0, 0, 0, 1],\n",
    "                        [0, 0, 0, 1],\n",
    "                        [0, 0, 0, 1],\n",
    "])"
   ]
  },
  {
   "cell_type": "markdown",
   "metadata": {},
   "source": [
    "simulated overfitted network, as you can see, all predictions are very high\n",
    "\n",
    "And the main point is, that you have 2 false classified examples"
   ]
  },
  {
   "cell_type": "code",
   "execution_count": 10,
   "metadata": {},
   "outputs": [],
   "source": [
    "predictions2 = np.array([\n",
    "                        [0.25,0.25,0.25,0.99],\n",
    "                        [0.01,0.01,0.01,0.99],\n",
    "                        [0.25,0.25,0.25,0.99],\n",
    "                        [0.01,0.01,0.01,0.99],\n",
    "                        [0.25, 0.25, 0.25, 0.99],\n",
    "                        [0.01, 0.01, 0.01, 0.99],\n",
    "                        [0.01, 0.01, 0.01, 0.99],\n",
    "                        [0.01, 0.5, 0.90, 0.99],\n",
    "                        [0.01, 0.01, 0.01, 0.99],\n",
    "                        [0.01, 0.01, 0.01, 0.99],\n",
    "                        [0.25, 0.25, 0.25, 0.99],\n",
    "                        [0.01, 0.01, 0.01, 0.99],\n",
    "                        [0.25, 0.25, 0.25, 0.99],\n",
    "                        [0.01, 0.01, 0.01, 0.99],\n",
    "                        [0.01, 0.01, 0.01, 0.99],\n",
    "                        [0.01, 0.5, 0.90, 0.99],\n",
    "                        [0.01, 0.01, 0.01, 0.99],\n",
    "                        [0.01, 0.01, 0.01, 0.99],\n",
    "                        [0.25, 0.25, 0.25, 0.99],\n",
    "                        [0.01, 0.01, 0.01, 0.99],\n",
    "                        [0.25, 0.25, 0.25, 0.99],\n",
    "                        [0.01, 0.01, 0.01, 0.99],\n",
    "                        [0.01, 0.01, 0.01, 0.99],\n",
    "                        [0.01, 0.5, 0.90, 0.99],\n",
    "                        [0.01, 0.01, 0.01, 0.99],\n",
    "                        [0.01, 0.01, 0.01, 0.99],\n",
    "])\n",
    "\n",
    "targets2 = np.array([\n",
    "                        [0,0,1,0],\n",
    "                        [0,0,1,0],\n",
    "                        [0, 0, 0, 1],\n",
    "                        [0, 0, 0, 1],\n",
    "                        [0, 0, 0, 1],\n",
    "                        [0, 0, 0, 1],\n",
    "                        [0, 0, 0, 1],\n",
    "                        [0, 0, 0, 1],\n",
    "                        [0, 0, 0, 1],\n",
    "                        [0, 0, 0, 1],\n",
    "                        [0, 0, 0, 1],\n",
    "                        [0, 0, 0, 1],\n",
    "                        [0, 0, 0, 1],\n",
    "                        [0, 0, 0, 1],\n",
    "                        [0, 0, 0, 1],\n",
    "                        [0, 0, 0, 1],\n",
    "                        [0, 0, 0, 1],\n",
    "                        [0, 0, 0, 1],\n",
    "                        [0, 0, 0, 1],\n",
    "                        [0, 0, 0, 1],\n",
    "                        [0, 0, 0, 1],\n",
    "                        [0, 0, 0, 1],\n",
    "                        [0, 0, 0, 1],\n",
    "                        [0, 0, 0, 1],\n",
    "                        [0, 0, 0, 1],\n",
    "                        [0, 0, 0, 1],\n",
    "])\n"
   ]
  },
  {
   "cell_type": "code",
   "execution_count": 11,
   "metadata": {},
   "outputs": [
    {
     "name": "stdout",
     "output_type": "stream",
     "text": [
      "[3 3 3 3 3 3 3 3 3 3 3 3 3 3 3 3 3 3 3 3 3 3 3 3 3 3]\n",
      "[3 3 3 3 3 3 3 3 3 3 3 3 3 3 3 3 3 3 3 3 3 3 3 3 3 3]\n",
      "[3 3 3 3 3 3 3 3 3 3 3 3 3 3 3 3 3 3 3 3 3 3 3 3 3 3]\n",
      "[2 2 3 3 3 3 3 3 3 3 3 3 3 3 3 3 3 3 3 3 3 3 3 3 3 3]\n",
      "gp simulation CE: 0.36464333725418346\n",
      "gp simulation Acc: 1.0\n",
      "overfitting simulation CE: 0.23971817228267683\n",
      "overfitting simulation Acc: 0.9230769230769231\n"
     ]
    }
   ],
   "source": [
    "from sklearn.metrics import accuracy_score\n",
    "\n",
    "print(predictions.argmax(1))\n",
    "print(targets.argmax(1))\n",
    "\n",
    "print(predictions2.argmax(1))\n",
    "print(targets2.argmax(1))\n",
    "\n",
    "x_gp = cross_entropy(predictions, targets)\n",
    "print(\"gp simulation CE:\", x_gp)\n",
    "print(\"gp simulation Acc:\", accuracy_score(predictions.argmax(1), targets.argmax(1)))\n",
    "\n",
    "x = cross_entropy(predictions2, targets2)\n",
    "print(\"overfitting simulation CE:\", x)\n",
    "print(\"overfitting simulation Acc:\", accuracy_score(predictions2.argmax(1), targets2.argmax(1)))\n"
   ]
  },
  {
   "cell_type": "markdown",
   "metadata": {},
   "source": [
    "as you can see Acc is higher but the CE is lower\n",
    "\n",
    "gp simulation CE: 0.36464333725418346\n",
    "\n",
    "gp simulation Acc: 1.0\n",
    "\n",
    "overfitting simulation CE: 0.23971817228267683\n",
    "\n",
    "overfitting simulation Acc: 0.9230769230769231\n"
   ]
  },
  {
   "cell_type": "code",
   "execution_count": null,
   "metadata": {},
   "outputs": [],
   "source": []
  }
 ],
 "metadata": {
  "kernelspec": {
   "display_name": "Python 3",
   "language": "python",
   "name": "python3"
  },
  "language_info": {
   "codemirror_mode": {
    "name": "ipython",
    "version": 3
   },
   "file_extension": ".py",
   "mimetype": "text/x-python",
   "name": "python",
   "nbconvert_exporter": "python",
   "pygments_lexer": "ipython3",
   "version": "3.6.9"
  }
 },
 "nbformat": 4,
 "nbformat_minor": 2
}
